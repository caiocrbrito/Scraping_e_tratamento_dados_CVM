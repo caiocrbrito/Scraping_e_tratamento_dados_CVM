{
 "cells": [
  {
   "cell_type": "code",
   "execution_count": 2,
   "metadata": {
    "colab": {
     "base_uri": "https://localhost:8080/",
     "height": 345
    },
    "executionInfo": {
     "elapsed": 422,
     "status": "error",
     "timestamp": 1686677777425,
     "user": {
      "displayName": "ESTAGIARIO2 CGR",
      "userId": "10244625530664156514"
     },
     "user_tz": 180
    },
    "id": "GGcGtEWxdA1t",
    "outputId": "8d717a33-29ec-4b3d-dec6-6f96ea055c55"
   },
   "outputs": [],
   "source": [
    "import pandas as pd\n",
    "import glob\n",
    "import os, shutil\n",
    "from zipfile import ZipFile\n",
    "\n",
    "def concat_fidc(nome='fidc.csv', entrada='/', saida='/'):\n",
    "\n",
    "    lista_arquivos = []\n",
    "    for arquivo in glob.glob(f'{entrada}/inf_mensal_fidc_*.zip'):\n",
    "        with ZipFile(arquivo, 'r') as obj:\n",
    "            obj.extractall(path='../dados/temp/')\n",
    "\n",
    "    df = pd.DataFrame()\n",
    "    for arquivo in glob.glob('../dados/temp/*fidc_tab_I_*.csv'):\n",
    "        # lista_arquivos.append(arquivo)\n",
    "        df_temp = pd.read_csv(arquivo,\n",
    "                                sep=';',\n",
    "                                dtype=str,\n",
    "                                encoding = 'ISO-8859-1')\n",
    "        columns = []\n",
    "        for i in range(len(df_temp.columns)):\n",
    "            if (df_temp.columns[i] in ['CNPJ_FUNDO', 'DENOM_SOCIAL', 'DT_COMPTC']) | ('CNPJ_CEDENTE' in df_temp.columns[i]):\n",
    "                columns.append(df_temp.columns[i])\n",
    "        df_temp = df_temp[columns]\n",
    "\n",
    "        df = df.append(df_temp)\n",
    "\n",
    "    if not os.path.exists(saida):\n",
    "        os.makedirs(saida)\n",
    "\n",
    "    df.to_csv(saida + '/' + nome,\n",
    "              sep=';',\n",
    "              index=False,\n",
    "              encoding='utf-8',\n",
    "              header=False)\n",
    "\n",
    "    shutil.rmtree(entrada + '/temp/')\n",
    "\n",
    "concat_fidc(entrada='../dados', saida='../dados/fidc')\n",
    "\n"
   ]
  }
 ],
 "metadata": {
  "colab": {
   "authorship_tag": "ABX9TyMfI0xRhgBXMjB5bSZ6OsDj",
   "provenance": []
  },
  "kernelspec": {
   "display_name": "Python 3",
   "language": "python",
   "name": "python3"
  },
  "language_info": {
   "codemirror_mode": {
    "name": "ipython",
    "version": 3
   },
   "file_extension": ".py",
   "mimetype": "text/x-python",
   "name": "python",
   "nbconvert_exporter": "python",
   "pygments_lexer": "ipython3",
   "version": "3.8.5"
  }
 },
 "nbformat": 4,
 "nbformat_minor": 1
}
